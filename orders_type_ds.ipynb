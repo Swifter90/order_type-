{
 "cells": [
  {
   "cell_type": "markdown",
   "id": "65c587d4",
   "metadata": {},
   "source": [
    "## Исследование экспресс заказов по часам среди ДС\n",
    "\n",
    "Гипотезы:\n",
    "\n",
    "1. В вечернее время доля экспрессов по часам значительно превышает среднее значение по дню на ДС Лобачевского, Автоград, Каширский двор. (Подсчет показателей с 1 по 25 января).\n",
    "2. На ДС Лобачевского, Автоград, Каширский двор в вечернее время преобладают большие экспресс заказы > 10 наименований в заказе (Average item order - AIV > 10). Определить топ складов с наибольшим средним количеством наименований в экспресс заказах в разное время дня из ТОП 10 по GMV.\n",
    "3. AIV экспрессов на ДС Лобачевского больше чем в топ-10 складов по торговле.\n",
    "\n"
   ]
  },
  {
   "cell_type": "markdown",
   "id": "fff31066",
   "metadata": {},
   "source": [
    "## Исследование гипотезы №1"
   ]
  },
  {
   "cell_type": "code",
   "execution_count": 1,
   "id": "e1c8aea0",
   "metadata": {},
   "outputs": [
    {
     "data": {
      "text/plain": [
       "'/Users/ivankomarov'"
      ]
     },
     "execution_count": 1,
     "metadata": {},
     "output_type": "execute_result"
    }
   ],
   "source": [
    "import pandas as pd\n",
    "import os\n",
    "os.getcwd()"
   ]
  },
  {
   "cell_type": "code",
   "execution_count": 2,
   "id": "d2d367e6",
   "metadata": {},
   "outputs": [],
   "source": [
    "import matplotlib.pyplot as plt"
   ]
  },
  {
   "cell_type": "code",
   "execution_count": 3,
   "id": "ceb1f925",
   "metadata": {},
   "outputs": [],
   "source": [
    "data = '/Users/ivankomarov/Сплит заказов по часам.xlsx'\n",
    "orders_in_hours = pd.read_excel(data, index_col=0)"
   ]
  },
  {
   "cell_type": "code",
   "execution_count": 4,
   "id": "b8d170a5",
   "metadata": {},
   "outputs": [
    {
     "name": "stdout",
     "output_type": "stream",
     "text": [
      "<class 'pandas.core.frame.DataFrame'>\n",
      "RangeIndex: 72282 entries, 0 to 72281\n",
      "Data columns (total 7 columns):\n",
      " #   Column        Non-Null Count  Dtype         \n",
      "---  ------        --------------  -----         \n",
      " 0   FactDate      72282 non-null  datetime64[ns]\n",
      " 1   FactHour      72282 non-null  int64         \n",
      " 2   DS            72282 non-null  object        \n",
      " 3   DeliveryType  72282 non-null  object        \n",
      " 4   GMV_D         72282 non-null  float64       \n",
      " 5   Orders_D      72282 non-null  int64         \n",
      " 6   Items_D       72282 non-null  int64         \n",
      "dtypes: datetime64[ns](1), float64(1), int64(3), object(2)\n",
      "memory usage: 3.9+ MB\n"
     ]
    }
   ],
   "source": [
    "\n",
    "orders_in_hours.reset_index(inplace=True)\n",
    "orders_in_hours.info()"
   ]
  },
  {
   "cell_type": "code",
   "execution_count": 5,
   "id": "23419a29",
   "metadata": {},
   "outputs": [
    {
     "data": {
      "text/html": [
       "<div>\n",
       "<style scoped>\n",
       "    .dataframe tbody tr th:only-of-type {\n",
       "        vertical-align: middle;\n",
       "    }\n",
       "\n",
       "    .dataframe tbody tr th {\n",
       "        vertical-align: top;\n",
       "    }\n",
       "\n",
       "    .dataframe thead th {\n",
       "        text-align: right;\n",
       "    }\n",
       "</style>\n",
       "<table border=\"1\" class=\"dataframe\">\n",
       "  <thead>\n",
       "    <tr style=\"text-align: right;\">\n",
       "      <th></th>\n",
       "      <th>FactDate</th>\n",
       "      <th>FactHour</th>\n",
       "      <th>DS</th>\n",
       "      <th>DeliveryType</th>\n",
       "      <th>GMV_D</th>\n",
       "      <th>Orders_D</th>\n",
       "      <th>Items_D</th>\n",
       "    </tr>\n",
       "  </thead>\n",
       "  <tbody>\n",
       "    <tr>\n",
       "      <th>0</th>\n",
       "      <td>2023-01-01</td>\n",
       "      <td>0</td>\n",
       "      <td>FRESH_MAX_МСК_НОВАЯ_РИГА</td>\n",
       "      <td>Regular</td>\n",
       "      <td>2174.1667</td>\n",
       "      <td>1</td>\n",
       "      <td>1</td>\n",
       "    </tr>\n",
       "    <tr>\n",
       "      <th>1</th>\n",
       "      <td>2023-01-01</td>\n",
       "      <td>11</td>\n",
       "      <td>FRESH_MAX_СПБ_ЛИГОВСКИЙ</td>\n",
       "      <td>ПВЗ</td>\n",
       "      <td>564.0000</td>\n",
       "      <td>1</td>\n",
       "      <td>1</td>\n",
       "    </tr>\n",
       "    <tr>\n",
       "      <th>2</th>\n",
       "      <td>2023-01-01</td>\n",
       "      <td>12</td>\n",
       "      <td>FRESH_MAX_КДР_МЕДИА_ПЛАЗА</td>\n",
       "      <td>ПВЗ</td>\n",
       "      <td>3325.0000</td>\n",
       "      <td>1</td>\n",
       "      <td>1</td>\n",
       "    </tr>\n",
       "    <tr>\n",
       "      <th>3</th>\n",
       "      <td>2023-01-01</td>\n",
       "      <td>13</td>\n",
       "      <td>FRESH_MAX_ВЛГ_ЗЕМЛЯЧКИ</td>\n",
       "      <td>Regular</td>\n",
       "      <td>2325.0000</td>\n",
       "      <td>1</td>\n",
       "      <td>1</td>\n",
       "    </tr>\n",
       "    <tr>\n",
       "      <th>4</th>\n",
       "      <td>2023-01-01</td>\n",
       "      <td>13</td>\n",
       "      <td>FRESH_MAX_КЗН_ОРЕНБУРГСКИЙ</td>\n",
       "      <td>Regular</td>\n",
       "      <td>585.0000</td>\n",
       "      <td>1</td>\n",
       "      <td>5</td>\n",
       "    </tr>\n",
       "  </tbody>\n",
       "</table>\n",
       "</div>"
      ],
      "text/plain": [
       "    FactDate  FactHour                          DS DeliveryType      GMV_D  \\\n",
       "0 2023-01-01         0    FRESH_MAX_МСК_НОВАЯ_РИГА      Regular  2174.1667   \n",
       "1 2023-01-01        11     FRESH_MAX_СПБ_ЛИГОВСКИЙ          ПВЗ   564.0000   \n",
       "2 2023-01-01        12   FRESH_MAX_КДР_МЕДИА_ПЛАЗА          ПВЗ  3325.0000   \n",
       "3 2023-01-01        13      FRESH_MAX_ВЛГ_ЗЕМЛЯЧКИ      Regular  2325.0000   \n",
       "4 2023-01-01        13  FRESH_MAX_КЗН_ОРЕНБУРГСКИЙ      Regular   585.0000   \n",
       "\n",
       "   Orders_D  Items_D  \n",
       "0         1        1  \n",
       "1         1        1  \n",
       "2         1        1  \n",
       "3         1        1  \n",
       "4         1        5  "
      ]
     },
     "execution_count": 5,
     "metadata": {},
     "output_type": "execute_result"
    }
   ],
   "source": [
    "orders_in_hours.head()"
   ]
  },
  {
   "cell_type": "code",
   "execution_count": 6,
   "id": "eea74836",
   "metadata": {},
   "outputs": [
    {
     "data": {
      "text/plain": [
       "FactDate        0\n",
       "FactHour        0\n",
       "DS              0\n",
       "DeliveryType    0\n",
       "GMV_D           0\n",
       "Orders_D        0\n",
       "Items_D         0\n",
       "dtype: int64"
      ]
     },
     "execution_count": 6,
     "metadata": {},
     "output_type": "execute_result"
    }
   ],
   "source": [
    "from datetime import date, time, datetime\n",
    "orders_in_hours.isnull().sum()\n"
   ]
  },
  {
   "cell_type": "code",
   "execution_count": 7,
   "id": "a64e7b66",
   "metadata": {},
   "outputs": [
    {
     "name": "stdout",
     "output_type": "stream",
     "text": [
      "['B2B' 'Express' 'NonGroc' 'Regular' 'Strizh' 'SuperExpress' 'ПВЗ'\n",
      " 'Прочее']\n"
     ]
    }
   ],
   "source": [
    "print(orders_in_hours['DeliveryType'].sort_values().unique())"
   ]
  },
  {
   "cell_type": "code",
   "execution_count": 8,
   "id": "0be79f1d",
   "metadata": {},
   "outputs": [],
   "source": [
    "# посчитаем общее количество заказов(Regular, Express, SuperExpress, Strizh) на каждом складе с 1 по 25 января\n",
    "orders_sum_per_ds = orders_in_hours.loc[lambda x: (orders_in_hours['DeliveryType'] != 'ПВЗ') & (orders_in_hours['DeliveryType'] != 'NonGroc') & (orders_in_hours['DeliveryType'] != 'B2B') & (orders_in_hours['DeliveryType'] != 'Прочее')]\n",
    "\n",
    "orders_sum_per_ds = orders_sum_per_ds.groupby('DS')['Orders_D'].sum().sort_values(ascending = False)\n"
   ]
  },
  {
   "cell_type": "code",
   "execution_count": 9,
   "id": "80d8fd4b",
   "metadata": {},
   "outputs": [],
   "source": [
    "# отфильтруем заказы по типу экспрессы и суперэкспрессы на каждом складе с 1 по 25 января\n",
    "express_per_ds = orders_in_hours.loc[lambda x: (orders_in_hours['DeliveryType'] != 'Regular') & (orders_in_hours['DeliveryType'] != 'ПВЗ') & (orders_in_hours['DeliveryType'] != 'NonGroc') & (orders_in_hours['DeliveryType'] != 'B2B') & (orders_in_hours['DeliveryType'] != 'Прочее') & (orders_in_hours['DeliveryType'] != 'Strizh')]\n"
   ]
  },
  {
   "cell_type": "code",
   "execution_count": 10,
   "id": "ae3e4260",
   "metadata": {},
   "outputs": [],
   "source": [
    "# посчитаем количество экспрессов и суперэкспрессов на каждом складе\n",
    "sum_express_per_ds = express_per_ds.groupby('DS')['Orders_D'].sum().sort_values(ascending = False)\n"
   ]
  },
  {
   "cell_type": "code",
   "execution_count": 11,
   "id": "96cb1d8c",
   "metadata": {},
   "outputs": [
    {
     "name": "stdout",
     "output_type": "stream",
     "text": [
      "                                     Orders_D\n",
      "DS                                           \n",
      "FRESH_MAX_МСК_ПРАВОБЕРЕЖНЫЙ             61682\n",
      "FRESH_MAX_СПБ_РАУМ_БУГРЫ                58960\n",
      "FRESH_MAX_МСК_МИТИНО                    56265\n",
      "FRESH_MAX_СПБ_ЛОГОПАРК                  55298\n",
      "FRESH_MAX_МСК_АВТОГРАД                  53238\n",
      "FRESH_MAX_МСК_ТЮМЕНСКИЙ                 53230\n",
      "FRESH_MAX_МСК_КАШИРСКИЙ_ДВОР            52303\n",
      "FRESH_MAX_СПБ_БЕСТУЖЕВСКИЙ              50625\n",
      "FRESH_MAX_МСК_КУНЦЕВО                   50598\n",
      "FRESH_MAX_МСК_ЛОБАЧЕВСКОГО              49544\n",
      "FRESH_MAX_МСК_ОДИНЦОВО                  49066\n",
      "FRESH_MAX_МСК_КРАСНАЯ_ПРЕСНЯ            48340\n",
      "FRESH_MAX_МСК_ЕВРОПОЛИС                 48042\n",
      "FRESH_MAX_СПБ_ЛИГОВСКИЙ                 46237\n",
      "FRESH_MAX_СПБ_МЕБЕЛЬНАЯ                 44402\n",
      "FRESH_MAX_МСК_ПОДОЛЬСК                  44389\n",
      "FRESH_MAX_МСК_ТРОИЦК                    44325\n",
      "FRESH_MAX_МСК_САВЕЛОВСКИЙ               42032\n",
      "FRESH_MAX_МСК_САЛАРЬЕВО                 41403\n",
      "FRESH_MAX_МСК_НОВАЯ_РИГА                40324\n",
      "FRESH_MAX_СПБ_ВОЛХОНСКИЙ                39386\n",
      "FRESH_MAX_КЗН_ОРЕНБУРГСКИЙ              38607\n",
      "FRESH_MAX_МСК_БЫКОВО                    38424\n",
      "FRESH_MAX_МСК_ПАРК_ХАУС                 37183\n",
      "FRESH_MAX_МСК_ПУШКИНО                   36466\n",
      "FRESH_MAX_МСК_ЕРЕМИНО                   34804\n",
      "FRESH_MAX_РСТ_ЗАПАДНЫЙ                  34189\n",
      "FRESH_MAX_СОЧИ_ТРАНСПОРТНАЯ             32883\n",
      "FRESH_MAX_МСК_ЗЕЛЕНОГРАД                32832\n",
      "FRESH_MAX_КДР_ПОНОМАРЕНКО               32623\n",
      "FRESH_MAX_МСК_КРЫМСКАЯ                  31919\n",
      "FRESH_MAX_МСК_ПРИВОЛЬНАЯ                31094\n",
      "FRESH_MAX_ТВЕРЬ_КАЛИНИНА                29681\n",
      "FRESH_MAX_МСК_ШАРИКОПОДШИПНИКОВСКАЯ     29452\n",
      "FRESH_MAX_РСТ_ШОЛОХОВО                  28932\n",
      "FRESH_MAX_КДР_МЕДИА_ПЛАЗА               27770\n",
      "FRESH_MAX_КЗН_ГОРЬКОВСКИЙ               22862\n",
      "FRESH_MAX_ВЛГ_ЗЕМЛЯЧКИ                  22844\n",
      "FRESH_MAX_МСК_ЛЮБЕРЦЫ                   22448\n",
      "FRESH_MAX_МСК_РЕУТОВ                    22353\n",
      "FRESH_MAX_МСК_МОСКВА_СИТИ               21624\n",
      "FRESH_MAX_МСК_МЫТИЩИ                    19084\n",
      "FRESH_MAX_МСК_АТРИУМ                    18731\n",
      "FRESH_MAX_НБЧ_МЕНЗЕЛИНСКИЙ              18647\n",
      "FRESH_MAX_МСК_КАШИРСКИЙ_ДВОР_2           2458\n",
      "FRESH_MAX_СПБ_ЛИГОВСКИЙ_2                 849\n"
     ]
    }
   ],
   "source": [
    "#выведем табличку с общим количеством заказов (без ПВЗ) с 1 по 25 января\n",
    "all_orders_svod_table = pd.DataFrame(orders_sum_per_ds)\n",
    "\n",
    "print(all_orders_svod_table)"
   ]
  },
  {
   "cell_type": "code",
   "execution_count": 12,
   "id": "f297b870",
   "metadata": {},
   "outputs": [],
   "source": [
    "#выведем табличку с общим количеством экспрессов с 1 по 25 января\n",
    "express_order_svod_table = pd.DataFrame(sum_express_per_ds)\n",
    "express_order_svod_table = express_order_svod_table.rename(columns={express_order_svod_table.columns[0]: \"Express\"})\n"
   ]
  },
  {
   "cell_type": "code",
   "execution_count": null,
   "id": "4c3712b3",
   "metadata": {},
   "outputs": [],
   "source": [
    "\n"
   ]
  },
  {
   "cell_type": "code",
   "execution_count": 13,
   "id": "824af9ec",
   "metadata": {},
   "outputs": [
    {
     "name": "stdout",
     "output_type": "stream",
     "text": [
      "                                     Orders_D  Express\n",
      "DS                                                    \n",
      "FRESH_MAX_МСК_ПРАВОБЕРЕЖНЫЙ             61682  18751.0\n",
      "FRESH_MAX_СПБ_РАУМ_БУГРЫ                58960   6473.0\n",
      "FRESH_MAX_МСК_МИТИНО                    56265  13331.0\n",
      "FRESH_MAX_СПБ_ЛОГОПАРК                  55298  11236.0\n",
      "FRESH_MAX_МСК_АВТОГРАД                  53238  13229.0\n",
      "FRESH_MAX_МСК_ТЮМЕНСКИЙ                 53230  17978.0\n",
      "FRESH_MAX_МСК_КАШИРСКИЙ_ДВОР            52303  17363.0\n",
      "FRESH_MAX_СПБ_БЕСТУЖЕВСКИЙ              50625   9681.0\n",
      "FRESH_MAX_МСК_КУНЦЕВО                   50598  10614.0\n",
      "FRESH_MAX_МСК_ЛОБАЧЕВСКОГО              49544  15745.0\n",
      "FRESH_MAX_МСК_ОДИНЦОВО                  49066   5869.0\n",
      "FRESH_MAX_МСК_КРАСНАЯ_ПРЕСНЯ            48340  14504.0\n",
      "FRESH_MAX_МСК_ЕВРОПОЛИС                 48042  16425.0\n",
      "FRESH_MAX_СПБ_ЛИГОВСКИЙ                 46237   8395.0\n",
      "FRESH_MAX_СПБ_МЕБЕЛЬНАЯ                 44402   7776.0\n",
      "FRESH_MAX_МСК_ПОДОЛЬСК                  44389   4933.0\n",
      "FRESH_MAX_МСК_ТРОИЦК                    44325   5962.0\n",
      "FRESH_MAX_МСК_САВЕЛОВСКИЙ               42032  13955.0\n",
      "FRESH_MAX_МСК_САЛАРЬЕВО                 41403   8512.0\n",
      "FRESH_MAX_МСК_НОВАЯ_РИГА                40324   4625.0\n",
      "FRESH_MAX_СПБ_ВОЛХОНСКИЙ                39386   3688.0\n",
      "FRESH_MAX_КЗН_ОРЕНБУРГСКИЙ              38607   9502.0\n",
      "FRESH_MAX_МСК_БЫКОВО                    38424   3469.0\n",
      "FRESH_MAX_МСК_ПАРК_ХАУС                 37183  10129.0\n",
      "FRESH_MAX_МСК_ПУШКИНО                   36466   1971.0\n",
      "FRESH_MAX_МСК_ЕРЕМИНО                   34804    300.0\n",
      "FRESH_MAX_РСТ_ЗАПАДНЫЙ                  34189   4570.0\n",
      "FRESH_MAX_СОЧИ_ТРАНСПОРТНАЯ             32883   6872.0\n",
      "FRESH_MAX_МСК_ЗЕЛЕНОГРАД                32832   2758.0\n",
      "FRESH_MAX_КДР_ПОНОМАРЕНКО               32623   4541.0\n",
      "FRESH_MAX_МСК_КРЫМСКАЯ                  31919  11374.0\n",
      "FRESH_MAX_МСК_ПРИВОЛЬНАЯ                31094   8927.0\n",
      "FRESH_MAX_ТВЕРЬ_КАЛИНИНА                29681   9648.0\n",
      "FRESH_MAX_МСК_ШАРИКОПОДШИПНИКОВСКАЯ     29452   9862.0\n",
      "FRESH_MAX_РСТ_ШОЛОХОВО                  28932   4500.0\n",
      "FRESH_MAX_КДР_МЕДИА_ПЛАЗА               27770   2801.0\n",
      "FRESH_MAX_КЗН_ГОРЬКОВСКИЙ               22862   5693.0\n",
      "FRESH_MAX_ВЛГ_ЗЕМЛЯЧКИ                  22844   5504.0\n",
      "FRESH_MAX_МСК_ЛЮБЕРЦЫ                   22448   5642.0\n",
      "FRESH_MAX_МСК_РЕУТОВ                    22353   4603.0\n",
      "FRESH_MAX_МСК_МОСКВА_СИТИ               21624   9052.0\n",
      "FRESH_MAX_МСК_МЫТИЩИ                    19084   2857.0\n",
      "FRESH_MAX_МСК_АТРИУМ                    18731   5152.0\n",
      "FRESH_MAX_НБЧ_МЕНЗЕЛИНСКИЙ              18647   3472.0\n",
      "FRESH_MAX_МСК_КАШИРСКИЙ_ДВОР_2           2458      NaN\n",
      "FRESH_MAX_СПБ_ЛИГОВСКИЙ_2                 849      NaN\n"
     ]
    }
   ],
   "source": [
    "# сводим данные в одну таблицу\n",
    "order_table = pd.concat([all_orders_svod_table,express_order_svod_table], sort = False, axis = 1)\n",
    "\n",
    "print(order_table)"
   ]
  },
  {
   "cell_type": "code",
   "execution_count": 14,
   "id": "c95ce31b",
   "metadata": {},
   "outputs": [
    {
     "data": {
      "text/html": [
       "<div>\n",
       "<style scoped>\n",
       "    .dataframe tbody tr th:only-of-type {\n",
       "        vertical-align: middle;\n",
       "    }\n",
       "\n",
       "    .dataframe tbody tr th {\n",
       "        vertical-align: top;\n",
       "    }\n",
       "\n",
       "    .dataframe thead th {\n",
       "        text-align: right;\n",
       "    }\n",
       "</style>\n",
       "<table border=\"1\" class=\"dataframe\">\n",
       "  <thead>\n",
       "    <tr style=\"text-align: right;\">\n",
       "      <th></th>\n",
       "      <th>Orders_D</th>\n",
       "      <th>Express</th>\n",
       "    </tr>\n",
       "    <tr>\n",
       "      <th>DS</th>\n",
       "      <th></th>\n",
       "      <th></th>\n",
       "    </tr>\n",
       "  </thead>\n",
       "  <tbody>\n",
       "    <tr>\n",
       "      <th>FRESH_MAX_МСК_ПРАВОБЕРЕЖНЫЙ</th>\n",
       "      <td>61682</td>\n",
       "      <td>18751.0</td>\n",
       "    </tr>\n",
       "    <tr>\n",
       "      <th>FRESH_MAX_СПБ_РАУМ_БУГРЫ</th>\n",
       "      <td>58960</td>\n",
       "      <td>6473.0</td>\n",
       "    </tr>\n",
       "    <tr>\n",
       "      <th>FRESH_MAX_МСК_МИТИНО</th>\n",
       "      <td>56265</td>\n",
       "      <td>13331.0</td>\n",
       "    </tr>\n",
       "    <tr>\n",
       "      <th>FRESH_MAX_СПБ_ЛОГОПАРК</th>\n",
       "      <td>55298</td>\n",
       "      <td>11236.0</td>\n",
       "    </tr>\n",
       "    <tr>\n",
       "      <th>FRESH_MAX_МСК_АВТОГРАД</th>\n",
       "      <td>53238</td>\n",
       "      <td>13229.0</td>\n",
       "    </tr>\n",
       "    <tr>\n",
       "      <th>FRESH_MAX_МСК_ТЮМЕНСКИЙ</th>\n",
       "      <td>53230</td>\n",
       "      <td>17978.0</td>\n",
       "    </tr>\n",
       "    <tr>\n",
       "      <th>FRESH_MAX_МСК_КАШИРСКИЙ_ДВОР</th>\n",
       "      <td>52303</td>\n",
       "      <td>17363.0</td>\n",
       "    </tr>\n",
       "    <tr>\n",
       "      <th>FRESH_MAX_СПБ_БЕСТУЖЕВСКИЙ</th>\n",
       "      <td>50625</td>\n",
       "      <td>9681.0</td>\n",
       "    </tr>\n",
       "    <tr>\n",
       "      <th>FRESH_MAX_МСК_КУНЦЕВО</th>\n",
       "      <td>50598</td>\n",
       "      <td>10614.0</td>\n",
       "    </tr>\n",
       "    <tr>\n",
       "      <th>FRESH_MAX_МСК_ЛОБАЧЕВСКОГО</th>\n",
       "      <td>49544</td>\n",
       "      <td>15745.0</td>\n",
       "    </tr>\n",
       "    <tr>\n",
       "      <th>FRESH_MAX_МСК_ОДИНЦОВО</th>\n",
       "      <td>49066</td>\n",
       "      <td>5869.0</td>\n",
       "    </tr>\n",
       "    <tr>\n",
       "      <th>FRESH_MAX_МСК_КРАСНАЯ_ПРЕСНЯ</th>\n",
       "      <td>48340</td>\n",
       "      <td>14504.0</td>\n",
       "    </tr>\n",
       "    <tr>\n",
       "      <th>FRESH_MAX_МСК_ЕВРОПОЛИС</th>\n",
       "      <td>48042</td>\n",
       "      <td>16425.0</td>\n",
       "    </tr>\n",
       "    <tr>\n",
       "      <th>FRESH_MAX_СПБ_ЛИГОВСКИЙ</th>\n",
       "      <td>46237</td>\n",
       "      <td>8395.0</td>\n",
       "    </tr>\n",
       "    <tr>\n",
       "      <th>FRESH_MAX_СПБ_МЕБЕЛЬНАЯ</th>\n",
       "      <td>44402</td>\n",
       "      <td>7776.0</td>\n",
       "    </tr>\n",
       "    <tr>\n",
       "      <th>FRESH_MAX_МСК_ПОДОЛЬСК</th>\n",
       "      <td>44389</td>\n",
       "      <td>4933.0</td>\n",
       "    </tr>\n",
       "    <tr>\n",
       "      <th>FRESH_MAX_МСК_ТРОИЦК</th>\n",
       "      <td>44325</td>\n",
       "      <td>5962.0</td>\n",
       "    </tr>\n",
       "    <tr>\n",
       "      <th>FRESH_MAX_МСК_САВЕЛОВСКИЙ</th>\n",
       "      <td>42032</td>\n",
       "      <td>13955.0</td>\n",
       "    </tr>\n",
       "    <tr>\n",
       "      <th>FRESH_MAX_МСК_САЛАРЬЕВО</th>\n",
       "      <td>41403</td>\n",
       "      <td>8512.0</td>\n",
       "    </tr>\n",
       "    <tr>\n",
       "      <th>FRESH_MAX_МСК_НОВАЯ_РИГА</th>\n",
       "      <td>40324</td>\n",
       "      <td>4625.0</td>\n",
       "    </tr>\n",
       "    <tr>\n",
       "      <th>FRESH_MAX_СПБ_ВОЛХОНСКИЙ</th>\n",
       "      <td>39386</td>\n",
       "      <td>3688.0</td>\n",
       "    </tr>\n",
       "    <tr>\n",
       "      <th>FRESH_MAX_КЗН_ОРЕНБУРГСКИЙ</th>\n",
       "      <td>38607</td>\n",
       "      <td>9502.0</td>\n",
       "    </tr>\n",
       "    <tr>\n",
       "      <th>FRESH_MAX_МСК_БЫКОВО</th>\n",
       "      <td>38424</td>\n",
       "      <td>3469.0</td>\n",
       "    </tr>\n",
       "    <tr>\n",
       "      <th>FRESH_MAX_МСК_ПАРК_ХАУС</th>\n",
       "      <td>37183</td>\n",
       "      <td>10129.0</td>\n",
       "    </tr>\n",
       "    <tr>\n",
       "      <th>FRESH_MAX_МСК_ПУШКИНО</th>\n",
       "      <td>36466</td>\n",
       "      <td>1971.0</td>\n",
       "    </tr>\n",
       "    <tr>\n",
       "      <th>FRESH_MAX_МСК_ЕРЕМИНО</th>\n",
       "      <td>34804</td>\n",
       "      <td>300.0</td>\n",
       "    </tr>\n",
       "    <tr>\n",
       "      <th>FRESH_MAX_РСТ_ЗАПАДНЫЙ</th>\n",
       "      <td>34189</td>\n",
       "      <td>4570.0</td>\n",
       "    </tr>\n",
       "    <tr>\n",
       "      <th>FRESH_MAX_СОЧИ_ТРАНСПОРТНАЯ</th>\n",
       "      <td>32883</td>\n",
       "      <td>6872.0</td>\n",
       "    </tr>\n",
       "    <tr>\n",
       "      <th>FRESH_MAX_МСК_ЗЕЛЕНОГРАД</th>\n",
       "      <td>32832</td>\n",
       "      <td>2758.0</td>\n",
       "    </tr>\n",
       "    <tr>\n",
       "      <th>FRESH_MAX_КДР_ПОНОМАРЕНКО</th>\n",
       "      <td>32623</td>\n",
       "      <td>4541.0</td>\n",
       "    </tr>\n",
       "    <tr>\n",
       "      <th>FRESH_MAX_МСК_КРЫМСКАЯ</th>\n",
       "      <td>31919</td>\n",
       "      <td>11374.0</td>\n",
       "    </tr>\n",
       "    <tr>\n",
       "      <th>FRESH_MAX_МСК_ПРИВОЛЬНАЯ</th>\n",
       "      <td>31094</td>\n",
       "      <td>8927.0</td>\n",
       "    </tr>\n",
       "    <tr>\n",
       "      <th>FRESH_MAX_ТВЕРЬ_КАЛИНИНА</th>\n",
       "      <td>29681</td>\n",
       "      <td>9648.0</td>\n",
       "    </tr>\n",
       "    <tr>\n",
       "      <th>FRESH_MAX_МСК_ШАРИКОПОДШИПНИКОВСКАЯ</th>\n",
       "      <td>29452</td>\n",
       "      <td>9862.0</td>\n",
       "    </tr>\n",
       "    <tr>\n",
       "      <th>FRESH_MAX_РСТ_ШОЛОХОВО</th>\n",
       "      <td>28932</td>\n",
       "      <td>4500.0</td>\n",
       "    </tr>\n",
       "    <tr>\n",
       "      <th>FRESH_MAX_КДР_МЕДИА_ПЛАЗА</th>\n",
       "      <td>27770</td>\n",
       "      <td>2801.0</td>\n",
       "    </tr>\n",
       "    <tr>\n",
       "      <th>FRESH_MAX_КЗН_ГОРЬКОВСКИЙ</th>\n",
       "      <td>22862</td>\n",
       "      <td>5693.0</td>\n",
       "    </tr>\n",
       "    <tr>\n",
       "      <th>FRESH_MAX_ВЛГ_ЗЕМЛЯЧКИ</th>\n",
       "      <td>22844</td>\n",
       "      <td>5504.0</td>\n",
       "    </tr>\n",
       "    <tr>\n",
       "      <th>FRESH_MAX_МСК_ЛЮБЕРЦЫ</th>\n",
       "      <td>22448</td>\n",
       "      <td>5642.0</td>\n",
       "    </tr>\n",
       "    <tr>\n",
       "      <th>FRESH_MAX_МСК_РЕУТОВ</th>\n",
       "      <td>22353</td>\n",
       "      <td>4603.0</td>\n",
       "    </tr>\n",
       "    <tr>\n",
       "      <th>FRESH_MAX_МСК_МОСКВА_СИТИ</th>\n",
       "      <td>21624</td>\n",
       "      <td>9052.0</td>\n",
       "    </tr>\n",
       "    <tr>\n",
       "      <th>FRESH_MAX_МСК_МЫТИЩИ</th>\n",
       "      <td>19084</td>\n",
       "      <td>2857.0</td>\n",
       "    </tr>\n",
       "    <tr>\n",
       "      <th>FRESH_MAX_МСК_АТРИУМ</th>\n",
       "      <td>18731</td>\n",
       "      <td>5152.0</td>\n",
       "    </tr>\n",
       "    <tr>\n",
       "      <th>FRESH_MAX_НБЧ_МЕНЗЕЛИНСКИЙ</th>\n",
       "      <td>18647</td>\n",
       "      <td>3472.0</td>\n",
       "    </tr>\n",
       "  </tbody>\n",
       "</table>\n",
       "</div>"
      ],
      "text/plain": [
       "                                     Orders_D  Express\n",
       "DS                                                    \n",
       "FRESH_MAX_МСК_ПРАВОБЕРЕЖНЫЙ             61682  18751.0\n",
       "FRESH_MAX_СПБ_РАУМ_БУГРЫ                58960   6473.0\n",
       "FRESH_MAX_МСК_МИТИНО                    56265  13331.0\n",
       "FRESH_MAX_СПБ_ЛОГОПАРК                  55298  11236.0\n",
       "FRESH_MAX_МСК_АВТОГРАД                  53238  13229.0\n",
       "FRESH_MAX_МСК_ТЮМЕНСКИЙ                 53230  17978.0\n",
       "FRESH_MAX_МСК_КАШИРСКИЙ_ДВОР            52303  17363.0\n",
       "FRESH_MAX_СПБ_БЕСТУЖЕВСКИЙ              50625   9681.0\n",
       "FRESH_MAX_МСК_КУНЦЕВО                   50598  10614.0\n",
       "FRESH_MAX_МСК_ЛОБАЧЕВСКОГО              49544  15745.0\n",
       "FRESH_MAX_МСК_ОДИНЦОВО                  49066   5869.0\n",
       "FRESH_MAX_МСК_КРАСНАЯ_ПРЕСНЯ            48340  14504.0\n",
       "FRESH_MAX_МСК_ЕВРОПОЛИС                 48042  16425.0\n",
       "FRESH_MAX_СПБ_ЛИГОВСКИЙ                 46237   8395.0\n",
       "FRESH_MAX_СПБ_МЕБЕЛЬНАЯ                 44402   7776.0\n",
       "FRESH_MAX_МСК_ПОДОЛЬСК                  44389   4933.0\n",
       "FRESH_MAX_МСК_ТРОИЦК                    44325   5962.0\n",
       "FRESH_MAX_МСК_САВЕЛОВСКИЙ               42032  13955.0\n",
       "FRESH_MAX_МСК_САЛАРЬЕВО                 41403   8512.0\n",
       "FRESH_MAX_МСК_НОВАЯ_РИГА                40324   4625.0\n",
       "FRESH_MAX_СПБ_ВОЛХОНСКИЙ                39386   3688.0\n",
       "FRESH_MAX_КЗН_ОРЕНБУРГСКИЙ              38607   9502.0\n",
       "FRESH_MAX_МСК_БЫКОВО                    38424   3469.0\n",
       "FRESH_MAX_МСК_ПАРК_ХАУС                 37183  10129.0\n",
       "FRESH_MAX_МСК_ПУШКИНО                   36466   1971.0\n",
       "FRESH_MAX_МСК_ЕРЕМИНО                   34804    300.0\n",
       "FRESH_MAX_РСТ_ЗАПАДНЫЙ                  34189   4570.0\n",
       "FRESH_MAX_СОЧИ_ТРАНСПОРТНАЯ             32883   6872.0\n",
       "FRESH_MAX_МСК_ЗЕЛЕНОГРАД                32832   2758.0\n",
       "FRESH_MAX_КДР_ПОНОМАРЕНКО               32623   4541.0\n",
       "FRESH_MAX_МСК_КРЫМСКАЯ                  31919  11374.0\n",
       "FRESH_MAX_МСК_ПРИВОЛЬНАЯ                31094   8927.0\n",
       "FRESH_MAX_ТВЕРЬ_КАЛИНИНА                29681   9648.0\n",
       "FRESH_MAX_МСК_ШАРИКОПОДШИПНИКОВСКАЯ     29452   9862.0\n",
       "FRESH_MAX_РСТ_ШОЛОХОВО                  28932   4500.0\n",
       "FRESH_MAX_КДР_МЕДИА_ПЛАЗА               27770   2801.0\n",
       "FRESH_MAX_КЗН_ГОРЬКОВСКИЙ               22862   5693.0\n",
       "FRESH_MAX_ВЛГ_ЗЕМЛЯЧКИ                  22844   5504.0\n",
       "FRESH_MAX_МСК_ЛЮБЕРЦЫ                   22448   5642.0\n",
       "FRESH_MAX_МСК_РЕУТОВ                    22353   4603.0\n",
       "FRESH_MAX_МСК_МОСКВА_СИТИ               21624   9052.0\n",
       "FRESH_MAX_МСК_МЫТИЩИ                    19084   2857.0\n",
       "FRESH_MAX_МСК_АТРИУМ                    18731   5152.0\n",
       "FRESH_MAX_НБЧ_МЕНЗЕЛИНСКИЙ              18647   3472.0"
      ]
     },
     "execution_count": 14,
     "metadata": {},
     "output_type": "execute_result"
    }
   ],
   "source": [
    "order_table.dropna()"
   ]
  },
  {
   "cell_type": "code",
   "execution_count": 15,
   "id": "76f3a1bc",
   "metadata": {},
   "outputs": [
    {
     "name": "stdout",
     "output_type": "stream",
     "text": [
      "                                     Orders_D  Express  dolya_exp\n",
      "DS                                                               \n",
      "FRESH_MAX_МСК_МОСКВА_СИТИ               21624   9052.0       41.9\n",
      "FRESH_MAX_МСК_КРЫМСКАЯ                  31919  11374.0       35.6\n",
      "FRESH_MAX_МСК_ЕВРОПОЛИС                 48042  16425.0       34.2\n",
      "FRESH_MAX_МСК_ТЮМЕНСКИЙ                 53230  17978.0       33.8\n",
      "FRESH_MAX_МСК_ШАРИКОПОДШИПНИКОВСКАЯ     29452   9862.0       33.5\n",
      "FRESH_MAX_МСК_САВЕЛОВСКИЙ               42032  13955.0       33.2\n",
      "FRESH_MAX_МСК_КАШИРСКИЙ_ДВОР            52303  17363.0       33.2\n",
      "FRESH_MAX_ТВЕРЬ_КАЛИНИНА                29681   9648.0       32.5\n",
      "FRESH_MAX_МСК_ЛОБАЧЕВСКОГО              49544  15745.0       31.8\n",
      "FRESH_MAX_МСК_ПРАВОБЕРЕЖНЫЙ             61682  18751.0       30.4\n",
      "FRESH_MAX_МСК_КРАСНАЯ_ПРЕСНЯ            48340  14504.0       30.0\n",
      "FRESH_MAX_МСК_ПРИВОЛЬНАЯ                31094   8927.0       28.7\n",
      "FRESH_MAX_МСК_АТРИУМ                    18731   5152.0       27.5\n",
      "FRESH_MAX_МСК_ПАРК_ХАУС                 37183  10129.0       27.2\n",
      "FRESH_MAX_МСК_ЛЮБЕРЦЫ                   22448   5642.0       25.1\n",
      "FRESH_MAX_КЗН_ГОРЬКОВСКИЙ               22862   5693.0       24.9\n",
      "FRESH_MAX_МСК_АВТОГРАД                  53238  13229.0       24.8\n",
      "FRESH_MAX_КЗН_ОРЕНБУРГСКИЙ              38607   9502.0       24.6\n",
      "FRESH_MAX_ВЛГ_ЗЕМЛЯЧКИ                  22844   5504.0       24.1\n",
      "FRESH_MAX_МСК_МИТИНО                    56265  13331.0       23.7\n",
      "FRESH_MAX_МСК_КУНЦЕВО                   50598  10614.0       21.0\n",
      "FRESH_MAX_СОЧИ_ТРАНСПОРТНАЯ             32883   6872.0       20.9\n",
      "FRESH_MAX_МСК_САЛАРЬЕВО                 41403   8512.0       20.6\n",
      "FRESH_MAX_МСК_РЕУТОВ                    22353   4603.0       20.6\n",
      "FRESH_MAX_СПБ_ЛОГОПАРК                  55298  11236.0       20.3\n",
      "FRESH_MAX_СПБ_БЕСТУЖЕВСКИЙ              50625   9681.0       19.1\n",
      "FRESH_MAX_НБЧ_МЕНЗЕЛИНСКИЙ              18647   3472.0       18.6\n",
      "FRESH_MAX_СПБ_ЛИГОВСКИЙ                 46237   8395.0       18.2\n",
      "FRESH_MAX_СПБ_МЕБЕЛЬНАЯ                 44402   7776.0       17.5\n",
      "FRESH_MAX_РСТ_ШОЛОХОВО                  28932   4500.0       15.6\n",
      "FRESH_MAX_МСК_МЫТИЩИ                    19084   2857.0       15.0\n",
      "FRESH_MAX_КДР_ПОНОМАРЕНКО               32623   4541.0       13.9\n",
      "FRESH_MAX_МСК_ТРОИЦК                    44325   5962.0       13.5\n",
      "FRESH_MAX_РСТ_ЗАПАДНЫЙ                  34189   4570.0       13.4\n",
      "FRESH_MAX_МСК_ОДИНЦОВО                  49066   5869.0       12.0\n",
      "FRESH_MAX_МСК_НОВАЯ_РИГА                40324   4625.0       11.5\n",
      "FRESH_MAX_МСК_ПОДОЛЬСК                  44389   4933.0       11.1\n",
      "FRESH_MAX_СПБ_РАУМ_БУГРЫ                58960   6473.0       11.0\n",
      "FRESH_MAX_КДР_МЕДИА_ПЛАЗА               27770   2801.0       10.1\n",
      "FRESH_MAX_СПБ_ВОЛХОНСКИЙ                39386   3688.0        9.4\n",
      "FRESH_MAX_МСК_БЫКОВО                    38424   3469.0        9.0\n",
      "FRESH_MAX_МСК_ЗЕЛЕНОГРАД                32832   2758.0        8.4\n",
      "FRESH_MAX_МСК_ПУШКИНО                   36466   1971.0        5.4\n",
      "FRESH_MAX_МСК_ЕРЕМИНО                   34804    300.0        0.9\n",
      "FRESH_MAX_МСК_КАШИРСКИЙ_ДВОР_2           2458      NaN        NaN\n",
      "FRESH_MAX_СПБ_ЛИГОВСКИЙ_2                 849      NaN        NaN\n"
     ]
    }
   ],
   "source": [
    "# считаем долю экспрессов от общего числа заказов (без ПВЗ) и добавляем столбец в таблицу\n",
    "order_table['dolya_exp'] = round((order_table['Express'] / order_table['Orders_D'] * 100), 1)\n",
    "order_table.dropna()\n",
    "\n",
    "print(order_table.sort_values(by = ['dolya_exp'], ascending = False))"
   ]
  },
  {
   "cell_type": "code",
   "execution_count": 16,
   "id": "dae78866",
   "metadata": {},
   "outputs": [
    {
     "data": {
      "text/plain": [
       "FactHour\n",
       "0      737\n",
       "1      165\n",
       "2       17\n",
       "5       10\n",
       "6      200\n",
       "7      829\n",
       "8     1189\n",
       "9     1795\n",
       "10    2548\n",
       "11    3059\n",
       "12    3133\n",
       "13    3100\n",
       "14    3183\n",
       "15    3381\n",
       "16    3410\n",
       "17    3437\n",
       "18    3587\n",
       "19    3752\n",
       "20    3840\n",
       "21    3504\n",
       "22    2738\n",
       "23    1930\n",
       "Name: Orders_D, dtype: int64"
      ]
     },
     "execution_count": 16,
     "metadata": {},
     "output_type": "execute_result"
    }
   ],
   "source": [
    "orders_in_hours[(orders_in_hours['DS'] == 'FRESH_MAX_МСК_ЛОБАЧЕВСКОГО')  & (orders_in_hours['DeliveryType'] != 'ПВЗ') & (orders_in_hours['DeliveryType'] != 'NonGroc') & (orders_in_hours['DeliveryType'] != 'B2B') & (orders_in_hours['DeliveryType'] != 'Прочее') & (orders_in_hours['DeliveryType'] != 'Strizh')].groupby('FactHour')['Orders_D'].sum()"
   ]
  },
  {
   "cell_type": "code",
   "execution_count": 17,
   "id": "048beaa9",
   "metadata": {},
   "outputs": [
    {
     "data": {
      "text/plain": [
       "FactHour\n",
       "0       815\n",
       "1       190\n",
       "6       102\n",
       "7       678\n",
       "8      1345\n",
       "9      3606\n",
       "10     7619\n",
       "11    10174\n",
       "12    11250\n",
       "13    12307\n",
       "14    11904\n",
       "15    12087\n",
       "16    11988\n",
       "17    11150\n",
       "18    11112\n",
       "19    12377\n",
       "20    12042\n",
       "21    11028\n",
       "22     8512\n",
       "23     5469\n",
       "Name: Items_D, dtype: int64"
      ]
     },
     "execution_count": 17,
     "metadata": {},
     "output_type": "execute_result"
    }
   ],
   "source": [
    "orders_in_hours[(orders_in_hours['DS'] == 'FRESH_MAX_МСК_ЛОБАЧЕВСКОГО') & (orders_in_hours['DeliveryType'] == 'Express')].groupby('FactHour')['Items_D'].sum()"
   ]
  },
  {
   "cell_type": "code",
   "execution_count": 18,
   "id": "704105f7",
   "metadata": {},
   "outputs": [],
   "source": [
    "#сводим таблицы для ДС Лобачевского, Каширский Двор, Автоград по общему количеству экспрессов в каждый час суток\n",
    "lobachevskogo_express_in_hours = pd.DataFrame(orders_in_hours[(orders_in_hours['DS'] == 'FRESH_MAX_МСК_ЛОБАЧЕВСКОГО')  & (orders_in_hours['DeliveryType'] == 'Express')].groupby('FactHour')['Orders_D'].sum())\n",
    "kashirka_express_in_hours = pd.DataFrame(orders_in_hours[(orders_in_hours['DS'] == 'FRESH_MAX_МСК_КАШИРСКИЙ_ДВОР')  & (orders_in_hours['DeliveryType'] == 'Express')].groupby('FactHour')['Orders_D'].sum())\n",
    "avtograd_express_in_hours = pd.DataFrame(orders_in_hours[(orders_in_hours['DS'] == 'FRESH_MAX_МСК_АВТОГРАД')  & (orders_in_hours['DeliveryType'] == 'Express')].groupby('FactHour')['Orders_D'].sum())"
   ]
  },
  {
   "cell_type": "code",
   "execution_count": null,
   "id": "95806ddb",
   "metadata": {},
   "outputs": [],
   "source": [
    "\n",
    "\n"
   ]
  },
  {
   "cell_type": "code",
   "execution_count": 19,
   "id": "1fd88de4",
   "metadata": {},
   "outputs": [],
   "source": [
    "#сводим таблицы для ДС Лобачевского, Каширский Двор, Автоград по общему количеству регуляров и стрижей(без ПВЗ)\n",
    "#в каждый час суток с 1 по 25 января\n",
    "\n",
    "lobachevskogo_orders_in_hours = pd.DataFrame(orders_in_hours[(orders_in_hours['DS'] == 'FRESH_MAX_МСК_ЛОБАЧЕВСКОГО')  & (orders_in_hours['DeliveryType'] != 'ПВЗ') & (orders_in_hours['DeliveryType'] != 'NonGroc') & (orders_in_hours['DeliveryType'] != 'B2B') & (orders_in_hours['DeliveryType'] != 'Прочее') & (orders_in_hours['DeliveryType'] != 'Strizh')].groupby('FactHour')['Orders_D'].sum())\n",
    "kashirka_orders_in_hours = pd.DataFrame(orders_in_hours[(orders_in_hours['DS'] == 'FRESH_MAX_МСК_КАШИРСКИЙ_ДВОР')  & (orders_in_hours['DeliveryType'] != 'ПВЗ') & (orders_in_hours['DeliveryType'] != 'NonGroc') & (orders_in_hours['DeliveryType'] != 'B2B') & (orders_in_hours['DeliveryType'] != 'Прочее') & (orders_in_hours['DeliveryType'] != 'Strizh')].groupby('FactHour')['Orders_D'].sum())\n",
    "avtograd_orders_in_hours = pd.DataFrame(orders_in_hours[(orders_in_hours['DS'] == 'FRESH_MAX_МСК_АВТОГРАД')  & (orders_in_hours['DeliveryType'] != 'ПВЗ') & (orders_in_hours['DeliveryType'] != 'NonGroc') & (orders_in_hours['DeliveryType'] != 'B2B') & (orders_in_hours['DeliveryType'] != 'Прочее') & (orders_in_hours['DeliveryType'] != 'Strizh')].groupby('FactHour')['Orders_D'].sum())"
   ]
  },
  {
   "cell_type": "code",
   "execution_count": null,
   "id": "44bfd990",
   "metadata": {},
   "outputs": [],
   "source": []
  },
  {
   "cell_type": "code",
   "execution_count": 20,
   "id": "b2dc34a6",
   "metadata": {},
   "outputs": [],
   "source": [
    "lobachevskogo_express_in_hours = lobachevskogo_express_in_hours.rename(columns={lobachevskogo_express_in_hours.columns[0]: \"Express\"})\n",
    "\n",
    "kashirka_express_in_hours = kashirka_express_in_hours.rename(columns={kashirka_express_in_hours.columns[0]: \"Express\"})\n",
    "\n",
    "avtograd_express_in_hours = avtograd_express_in_hours.rename(columns={avtograd_express_in_hours.columns[0]: \"Express\"})\n"
   ]
  },
  {
   "cell_type": "code",
   "execution_count": 21,
   "id": "d7f06ee0",
   "metadata": {},
   "outputs": [],
   "source": [
    "#объединяем данные таблиц с экспрессами и регулярами для подсчета доли экспрессов в каждом часе суток, \n",
    "#чтобы проверить первую гипотезу\n",
    "lobachevskogo_svod = pd.concat([lobachevskogo_orders_in_hours,lobachevskogo_express_in_hours], sort = False, axis = 1)\n",
    "\n",
    "kashirka_svod = pd.concat([kashirka_orders_in_hours,kashirka_express_in_hours], sort = False, axis = 1)\n",
    "\n",
    "avtograd_svod = pd.concat([avtograd_orders_in_hours,avtograd_express_in_hours], sort = False, axis = 1)\n",
    "\n"
   ]
  },
  {
   "cell_type": "code",
   "execution_count": 22,
   "id": "bb2de642",
   "metadata": {},
   "outputs": [
    {
     "name": "stdout",
     "output_type": "stream",
     "text": [
      "                  Лобачевского\n",
      "          Orders_D  Express  dolya_exp\n",
      "FactHour                              \n",
      "0              737     65.0        8.8\n",
      "1              165     19.0       11.5\n",
      "2               17      NaN        NaN\n",
      "5               10      NaN        NaN\n",
      "6              200      8.0        4.0\n",
      "7              829     80.0        9.7\n",
      "8             1189    181.0       15.2\n",
      "9             1795    391.0       21.8\n",
      "10            2548    722.0       28.3\n",
      "11            3059    967.0       31.6\n",
      "12            3133   1113.0       35.5\n",
      "13            3100   1153.0       37.2\n",
      "14            3183   1157.0       36.3\n",
      "15            3381   1220.0       36.1\n",
      "16            3410   1172.0       34.4\n",
      "17            3437   1134.0       33.0\n",
      "18            3587   1174.0       32.7\n",
      "19            3752   1196.0       31.9\n",
      "20            3840   1200.0       31.2\n",
      "21            3504   1161.0       33.1\n",
      "22            2738    999.0       36.5\n",
      "23            1930    633.0       32.8\n",
      "\n",
      "                  Каширский Двор\n",
      "          Orders_D  Express  dolya_exp\n",
      "FactHour                              \n",
      "0              457     23.0        5.0\n",
      "1              272      6.0        2.2\n",
      "2                6      3.0       50.0\n",
      "3                2      NaN        NaN\n",
      "5                6      NaN        NaN\n",
      "6              126      9.0        7.1\n",
      "7              937     93.0        9.9\n",
      "8             1136    168.0       14.8\n",
      "9             1591    395.0       24.8\n",
      "10            2616    700.0       26.8\n",
      "11            3132    938.0       29.9\n",
      "12            3464   1164.0       33.6\n",
      "13            3539   1228.0       34.7\n",
      "14            3483   1210.0       34.7\n",
      "15            3792   1302.0       34.3\n",
      "16            3884   1311.0       33.8\n",
      "17            3886   1378.0       35.5\n",
      "18            3904   1321.0       33.8\n",
      "19            4172   1506.0       36.1\n",
      "20            4158   1508.0       36.3\n",
      "21            3402   1305.0       38.4\n",
      "22            2728   1120.0       41.1\n",
      "23            1610    675.0       41.9\n",
      "\n",
      "                  Автоград\n",
      "          Orders_D  Express  dolya_exp\n",
      "FactHour                              \n",
      "0              822     45.0        5.5\n",
      "1              279      6.0        2.2\n",
      "2               42      2.0        4.8\n",
      "3               19      NaN        NaN\n",
      "4                8      NaN        NaN\n",
      "5               11      NaN        NaN\n",
      "6              343      4.0        1.2\n",
      "7             1154     85.0        7.4\n",
      "8             1427    154.0       10.8\n",
      "9             1926    250.0       13.0\n",
      "10            2396    523.0       21.8\n",
      "11            2854    721.0       25.3\n",
      "12            3297    938.0       28.5\n",
      "13            3252    954.0       29.3\n",
      "14            3501    990.0       28.3\n",
      "15            3668   1077.0       29.4\n",
      "16            3799    995.0       26.2\n",
      "17            3936   1086.0       27.6\n",
      "18            3841    941.0       24.5\n",
      "19            4156   1059.0       25.5\n",
      "20            4119   1060.0       25.7\n",
      "21            3826    958.0       25.0\n",
      "22            2928    864.0       29.5\n",
      "23            1634    517.0       31.6\n",
      "\n"
     ]
    }
   ],
   "source": [
    "lobachevskogo_svod['dolya_exp'] = round((lobachevskogo_svod['Express'] / lobachevskogo_svod['Orders_D'] * 100), 1)\n",
    "lobachevskogo_svod.dropna()\n",
    "\n",
    "print('                  Лобачевского')\n",
    "print(lobachevskogo_svod)\n",
    "print()\n",
    "\n",
    "kashirka_svod['dolya_exp'] = round((kashirka_svod['Express'] / kashirka_svod['Orders_D'] * 100), 1)\n",
    "kashirka_svod.dropna()\n",
    "\n",
    "print('                  Каширский Двор')\n",
    "print(kashirka_svod)\n",
    "print()\n",
    "\n",
    "avtograd_svod['dolya_exp'] = round((avtograd_svod['Express'] / avtograd_svod['Orders_D'] * 100), 1)\n",
    "avtograd_svod.dropna()\n",
    "\n",
    "print('                  Автоград')\n",
    "print(avtograd_svod)\n",
    "print()"
   ]
  },
  {
   "cell_type": "code",
   "execution_count": 23,
   "id": "668b712b",
   "metadata": {},
   "outputs": [],
   "source": [
    "lobachevskogo_svod.reset_index(inplace=True)\n",
    "kashirka_svod.reset_index(inplace=True)\n",
    "avtograd_svod.reset_index(inplace=True)"
   ]
  },
  {
   "cell_type": "code",
   "execution_count": 24,
   "id": "1dff5a55",
   "metadata": {},
   "outputs": [
    {
     "data": {
      "text/plain": [
       "Text(0.5, 1.0, 'Доля экспрессов по часам на ДС Лобачевского')"
      ]
     },
     "execution_count": 24,
     "metadata": {},
     "output_type": "execute_result"
    },
    {
     "name": "stderr",
     "output_type": "stream",
     "text": [
      "posx and posy should be finite values\n",
      "posx and posy should be finite values\n",
      "posx and posy should be finite values\n",
      "posx and posy should be finite values\n"
     ]
    },
    {
     "data": {
      "image/png": "[encoded data removed]",
      "text/plain": [
       "<Figure size 1584x864 with 1 Axes>"
      ]
     },
     "metadata": {
      "needs_background": "light"
     },
     "output_type": "display_data"
    }
   ],
   "source": [
    "\n",
    "x = lobachevskogo_svod['FactHour']\n",
    "y = lobachevskogo_svod['dolya_exp']\n",
    "plt.figure(figsize=(22,12))\n",
    "plt.bar(x, y)\n",
    "\n",
    "def autolabel(rects, labels=None, height_factor=1.01):\n",
    "    for i, rect in enumerate(rects):\n",
    "        height = rect.get_height()\n",
    "        if labels is not None:\n",
    "            try:\n",
    "                label = labels[i]\n",
    "            except (TypeError, KeyError):\n",
    "                label = ' '\n",
    "        else:\n",
    "            label = '%d' % int(height)\n",
    "        ax.text(rect.get_x() + rect.get_width()/2., height_factor*height,\n",
    "                '{}'.format(label),\n",
    "                ha='center', va='bottom')\n",
    "ax = plt.gca()\n",
    "autolabel(ax.patches, y, height_factor=1.02)\n",
    "plt.axhline(y = 31.8, color = 'red', linestyle = '--', linewidth = 3, label = 'Avg')\n",
    "ax.set_title('Доля экспрессов по часам на ДС Лобачевского')"
   ]
  },
  {
   "cell_type": "code",
   "execution_count": 25,
   "id": "797bd950",
   "metadata": {},
   "outputs": [
    {
     "data": {
      "text/plain": [
       "Text(0.5, 1.0, 'Доля экспрессов по часам на ДС Каширский Двор')"
      ]
     },
     "execution_count": 25,
     "metadata": {},
     "output_type": "execute_result"
    },
    {
     "name": "stderr",
     "output_type": "stream",
     "text": [
      "posx and posy should be finite values\n",
      "posx and posy should be finite values\n",
      "posx and posy should be finite values\n",
      "posx and posy should be finite values\n"
     ]
    },
    {
     "data": {
      "image/png": "[encoded data removed]",
      "text/plain": [
       "<Figure size 1584x864 with 1 Axes>"
      ]
     },
     "metadata": {
      "needs_background": "light"
     },
     "output_type": "display_data"
    }
   ],
   "source": [
    "x = kashirka_svod['FactHour']\n",
    "y = kashirka_svod['dolya_exp']\n",
    "plt.figure(figsize=(22,12))\n",
    "plt.bar(x, y)\n",
    "\n",
    "def autolabel(rects, labels=None, height_factor=1.01):\n",
    "    for i, rect in enumerate(rects):\n",
    "        height = rect.get_height()\n",
    "        if labels is not None:\n",
    "            try:\n",
    "                label = labels[i]\n",
    "            except (TypeError, KeyError):\n",
    "                label = ' '\n",
    "        else:\n",
    "            label = '%d' % int(height)\n",
    "        ax.text(rect.get_x() + rect.get_width()/2., height_factor*height,\n",
    "                '{}'.format(label),\n",
    "                ha='center', va='bottom')\n",
    "ax = plt.gca()\n",
    "autolabel(ax.patches, y, height_factor=1.02)\n",
    "plt.axhline(y = 33.2, color = 'red', linestyle = '--', linewidth = 3, label = 'Avg')\n",
    "ax.set_title('Доля экспрессов по часам на ДС Каширский Двор')"
   ]
  },
  {
   "cell_type": "code",
   "execution_count": 26,
   "id": "f4461fe3",
   "metadata": {
    "scrolled": true
   },
   "outputs": [
    {
     "data": {
      "text/plain": [
       "Text(0.5, 1.0, 'Доля экспрессов по часам на ДС Автоград')"
      ]
     },
     "execution_count": 26,
     "metadata": {},
     "output_type": "execute_result"
    },
    {
     "name": "stderr",
     "output_type": "stream",
     "text": [
      "posx and posy should be finite values\n",
      "posx and posy should be finite values\n",
      "posx and posy should be finite values\n",
      "posx and posy should be finite values\n",
      "posx and posy should be finite values\n",
      "posx and posy should be finite values\n"
     ]
    },
    {
     "data": {
      "image/png": "[encoded data removed]",
      "text/plain": [
       "<Figure size 1584x864 with 1 Axes>"
      ]
     },
     "metadata": {
      "needs_background": "light"
     },
     "output_type": "display_data"
    }
   ],
   "source": [
    "x = avtograd_svod['FactHour']\n",
    "y = avtograd_svod['dolya_exp']\n",
    "plt.figure(figsize=(22,12))\n",
    "plt.bar(x, y)\n",
    "\n",
    "def autolabel(rects, labels=None, height_factor=1.01):\n",
    "    for i, rect in enumerate(rects):\n",
    "        height = rect.get_height()\n",
    "        if labels is not None:\n",
    "            try:\n",
    "                label = labels[i]\n",
    "            except (TypeError, KeyError):\n",
    "                label = ' '\n",
    "        else:\n",
    "            label = '%d' % int(height)\n",
    "        ax.text(rect.get_x() + rect.get_width()/2., height_factor*height,\n",
    "                '{}'.format(label),\n",
    "                ha='center', va='bottom')\n",
    "ax = plt.gca()\n",
    "autolabel(ax.patches, y, height_factor=1.02)\n",
    "plt.axhline(y = 24.8, color = 'red', linestyle = '--', linewidth = 3, label = 'Avg')\n",
    "ax.set_title('Доля экспрессов по часам на ДС Автоград')"
   ]
  },
  {
   "cell_type": "markdown",
   "id": "92cbaa23",
   "metadata": {},
   "source": [
    "## Вывод: гипотеза №1\n",
    "\n",
    "\"В вечернее время доля экспрессов по часам превышает среднее значение по дню на ДС Лобачевского, Автоград, Каширский двор.\"\n",
    "Доля экспрессов в общем количестве заказов (без ПВЗ) с 1 по 25 января:\n",
    "Лобачевского - 31.8\n",
    "Каширский Двор - 33.2\n",
    "Автоград - 24.8\n",
    "\n",
    "По графикам видно:\n",
    "Лобачевского с 17 до 21 небольшое превышение среднего значения в пределах 1,5%. Сильное превышение среднего значения идет с 22 до 23. Но это не критично.\n",
    "Каширский двор с 19 до 23 идет существенное превышение средней доли экспрессов в интервале от 4 до 8%.\n",
    "Автоград с 18 до 22 превышение в пределах 1%. Сильный всплеск с 22 до 00 с превышением среднесуточной доли экспрессов от 4,7 до 6,8%.\n",
    "\n",
    "Таким образом, гипотеза подтверждена только на ДС Каширский Двор. Лобачевского и Автоград значительные вспески %экспрессов в промежуток с 22 до 00."
   ]
  },
  {
   "cell_type": "markdown",
   "id": "c200efab",
   "metadata": {},
   "source": [
    "## Исследование гипотезы №2"
   ]
  },
  {
   "cell_type": "code",
   "execution_count": 27,
   "id": "96e54b37",
   "metadata": {},
   "outputs": [
    {
     "name": "stdout",
     "output_type": "stream",
     "text": [
      "          Items_D\n",
      "FactHour         \n",
      "0             815\n",
      "1             190\n",
      "6             102\n",
      "7             678\n",
      "8            1345\n",
      "9            3606\n",
      "10           7619\n",
      "11          10174\n",
      "12          11250\n",
      "13          12307\n",
      "14          11904\n",
      "15          12087\n",
      "16          11988\n",
      "17          11150\n",
      "18          11112\n",
      "19          12377\n",
      "20          12042\n",
      "21          11028\n",
      "22           8512\n",
      "23           5469\n"
     ]
    }
   ],
   "source": [
    "lobachevskogo_express_items_in_hours = pd.DataFrame(orders_in_hours[(orders_in_hours['DS'] == 'FRESH_MAX_МСК_ЛОБАЧЕВСКОГО') & (orders_in_hours['DeliveryType'] == 'Express')].groupby('FactHour')['Items_D'].sum())\n",
    "print(lobachevskogo_express_items_in_hours)"
   ]
  },
  {
   "cell_type": "code",
   "execution_count": 28,
   "id": "513c98d2",
   "metadata": {},
   "outputs": [],
   "source": [
    "lobachevskogo_item_svod = pd.concat([lobachevskogo_express_in_hours, lobachevskogo_express_items_in_hours], sort = False, axis = 1)\n",
    "lobachevskogo_item_svod.reset_index(inplace=True)\n"
   ]
  },
  {
   "cell_type": "code",
   "execution_count": 29,
   "id": "e9c780ff",
   "metadata": {},
   "outputs": [],
   "source": [
    "lobachevskogo_item_svod['AIV_Express'] = round((lobachevskogo_item_svod['Items_D'] / lobachevskogo_item_svod['Express'] ), 2)\n"
   ]
  },
  {
   "cell_type": "code",
   "execution_count": 30,
   "id": "383d540c",
   "metadata": {},
   "outputs": [],
   "source": [
    "lobachevskogo_obschee_items_in_hours = pd.DataFrame(orders_in_hours[(orders_in_hours['DS'] == 'FRESH_MAX_МСК_ЛОБАЧЕВСКОГО') & (orders_in_hours['DeliveryType'] != 'ПВЗ') & (orders_in_hours['DeliveryType'] != 'NonGroc') & (orders_in_hours['DeliveryType'] != 'B2B') & (orders_in_hours['DeliveryType'] != 'Прочее')].groupby('FactHour')['Items_D'].sum())\n"
   ]
  },
  {
   "cell_type": "code",
   "execution_count": 31,
   "id": "d7172fe2",
   "metadata": {},
   "outputs": [],
   "source": [
    "lobachevskogo_obschee_svod = pd.concat([lobachevskogo_orders_in_hours, lobachevskogo_obschee_items_in_hours], sort = False, axis = 1)\n",
    "lobachevskogo_obschee_svod.reset_index(inplace=True)\n",
    "\n"
   ]
  },
  {
   "cell_type": "code",
   "execution_count": 32,
   "id": "7e05156c",
   "metadata": {},
   "outputs": [],
   "source": [
    "lobachevskogo_obschee_svod['AIV_Obschee'] = round((lobachevskogo_obschee_svod['Items_D'] / lobachevskogo_obschee_svod['Orders_D'] ), 2)\n"
   ]
  },
  {
   "cell_type": "code",
   "execution_count": 33,
   "id": "79222d00",
   "metadata": {},
   "outputs": [],
   "source": [
    "import datetime\n",
    "import numpy as np\n",
    "dt1 = datetime.date(2023, 1, 9).isoformat()\n",
    "dt2 = datetime.date(2023, 1, 25).isoformat()\n",
    "#функция подсчета AIV по часам и среднего за введенный промежуток дней и времени\n",
    "def aiv(orders_in_hours, dt1, dt2, FactHourStart, FactHourFinish, DS, DeliveryType): \n",
    "    svod = orders_in_hours[(orders_in_hours['FactDate'] >= dt1) & (orders_in_hours['FactDate'] <= dt2) & (orders_in_hours['FactHour'] >= FactHourStart) & (orders_in_hours['FactHour'] <= FactHourFinish) & (orders_in_hours['DS'] == DS) & (orders_in_hours['DeliveryType'] == DeliveryType)]\n",
    "    group_order_svod = svod.groupby('FactHour')['Orders_D'].sum()\n",
    "    group_item_svod = svod.groupby('FactHour')['Items_D'].sum()\n",
    "    aiv_svod = pd.concat([group_order_svod, group_item_svod], sort = False, axis = 1)\n",
    "    aiv_svod.reset_index(inplace=True)\n",
    "    aiv_svod['AIV'] = round((aiv_svod['Items_D'] / aiv_svod['Orders_D'] ), 2)\n",
    "    aiv_svod['AIV_MEAN'] = round((aiv_svod['AIV'].sum()) / (aiv_svod['AIV'].count()), 2)\n",
    "    aiv_svod_table = pd.DataFrame(aiv_svod)\n",
    "    plt.figure(figsize=(10,6))\n",
    "    plt.bar(aiv_svod_table['FactHour'], aiv_svod_table['AIV'])\n",
    "    plt.axhline(y = np.nanmean (aiv_svod_table['AIV_MEAN']), color = 'red', linestyle = '--', linewidth = 3, label = 'Avg')\n",
    "   \n",
    "    return aiv_svod_table\n",
    "    \n"
   ]
  },
  {
   "cell_type": "code",
   "execution_count": 34,
   "id": "87d51cd5",
   "metadata": {},
   "outputs": [
    {
     "name": "stdout",
     "output_type": "stream",
     "text": [
      "   FactHour  Orders_D  Items_D    AIV  AIV_MEAN\n",
      "0        17       898     9228  10.28      9.73\n",
      "1        18       937     9814  10.47      9.73\n",
      "2        19      1034    10570  10.22      9.73\n",
      "3        20      1069    11537  10.79      9.73\n",
      "4        21       899     8753   9.74      9.73\n",
      "5        22       866     7642   8.82      9.73\n",
      "6        23       606     4716   7.78      9.73\n"
     ]
    },
    {
     "data": {
      "image/png": "[encoded data removed]",
      "text/plain": [
       "<Figure size 720x432 with 1 Axes>"
      ]
     },
     "metadata": {
      "needs_background": "light"
     },
     "output_type": "display_data"
    }
   ],
   "source": [
    "#Подсчет данных по Правобережному с 17 до 23 часов. С 9 по 25 января.\n",
    "print(aiv(orders_in_hours, dt1, dt2, 17, 23, 'FRESH_MAX_МСК_ПРАВОБЕРЕЖНЫЙ', 'Express'))\n"
   ]
  },
  {
   "cell_type": "code",
   "execution_count": 35,
   "id": "d8e23fdc",
   "metadata": {},
   "outputs": [
    {
     "name": "stdout",
     "output_type": "stream",
     "text": [
      "   FactHour  Orders_D  Items_D    AIV  AIV_MEAN\n",
      "0        17       648     7482  11.55     10.41\n",
      "1        18       522     5543  10.62     10.41\n",
      "2        19       550     5795  10.54     10.41\n",
      "3        20       554     6155  11.11     10.41\n",
      "4        21       433     4491  10.37     10.41\n",
      "5        22       556     5193   9.34     10.41\n",
      "6        23       426     3981   9.35     10.41\n"
     ]
    },
    {
     "data": {
      "image/png": "[encoded data removed]",
      "text/plain": [
       "<Figure size 720x432 with 1 Axes>"
      ]
     },
     "metadata": {
      "needs_background": "light"
     },
     "output_type": "display_data"
    }
   ],
   "source": [
    "#Подсчет данных по Митино с 17 до 23 часов. С 9 по 25 января.\n",
    "print(aiv(orders_in_hours, dt1, dt2, 17, 23, 'FRESH_MAX_МСК_МИТИНО', 'Express'))\n"
   ]
  },
  {
   "cell_type": "code",
   "execution_count": 36,
   "id": "1fe0990a",
   "metadata": {},
   "outputs": [
    {
     "name": "stdout",
     "output_type": "stream",
     "text": [
      "   FactHour  Orders_D  Items_D    AIV  AIV_MEAN\n",
      "0        17       777     9074  11.68     10.46\n",
      "1        18       739     8595  11.63     10.46\n",
      "2        19       860     9480  11.02     10.46\n",
      "3        20       857     8638  10.08     10.46\n",
      "4        21       768     8384  10.92     10.46\n",
      "5        22       694     6500   9.37     10.46\n",
      "6        23       389     3312   8.51     10.46\n"
     ]
    },
    {
     "data": {
      "image/png": "[encoded data removed]",
      "text/plain": [
       "<Figure size 720x432 with 1 Axes>"
      ]
     },
     "metadata": {
      "needs_background": "light"
     },
     "output_type": "display_data"
    }
   ],
   "source": [
    "#Подсчет данных по Автограду с 17 до 23 часов. С 9 по 25 января.\n",
    "print(aiv(orders_in_hours, dt1, dt2, 17, 23, 'FRESH_MAX_МСК_АВТОГРАД', 'Express'))\n"
   ]
  },
  {
   "cell_type": "code",
   "execution_count": 37,
   "id": "4b783652",
   "metadata": {},
   "outputs": [
    {
     "name": "stdout",
     "output_type": "stream",
     "text": [
      "   FactHour  Orders_D  Items_D    AIV  AIV_MEAN\n",
      "0        17       887     9591  10.81      9.82\n",
      "1        18       918     9232  10.06      9.82\n",
      "2        19      1040    10842  10.42      9.82\n",
      "3        20      1092    11328  10.37      9.82\n",
      "4        21       975     9513   9.76      9.82\n",
      "5        22       801     7266   9.07      9.82\n",
      "6        23       436     3597   8.25      9.82\n"
     ]
    },
    {
     "data": {
      "image/png": "[encoded data removed]",
      "text/plain": [
       "<Figure size 720x432 with 1 Axes>"
      ]
     },
     "metadata": {
      "needs_background": "light"
     },
     "output_type": "display_data"
    }
   ],
   "source": [
    "#Подсчет данных по Каширский Двор с 17 до 23 часов. С 9 по 25 января.\n",
    "print(aiv(orders_in_hours, dt1, dt2, 17, 23, 'FRESH_MAX_МСК_КАШИРСКИЙ_ДВОР', 'Express'))"
   ]
  },
  {
   "cell_type": "code",
   "execution_count": 38,
   "id": "25de42c6",
   "metadata": {},
   "outputs": [
    {
     "name": "stdout",
     "output_type": "stream",
     "text": [
      "   FactHour  Orders_D  Items_D    AIV  AIV_MEAN\n",
      "0        17       777     7785  10.02      9.82\n",
      "1        18       844     8338   9.88      9.82\n",
      "2        19       876     9528  10.88      9.82\n",
      "3        20       865     8889  10.28      9.82\n",
      "4        21       856     8458   9.88      9.82\n",
      "5        22       736     6653   9.04      9.82\n",
      "6        23       459     4018   8.75      9.82\n"
     ]
    },
    {
     "data": {
      "image/png": "[encoded data removed]",
      "text/plain": [
       "<Figure size 720x432 with 1 Axes>"
      ]
     },
     "metadata": {
      "needs_background": "light"
     },
     "output_type": "display_data"
    }
   ],
   "source": [
    "#Подсчет данных по Лобачевского с 17 до 23 часов. С 9 по 25 января.\n",
    "print(aiv(orders_in_hours, dt1, dt2, 17, 23, 'FRESH_MAX_МСК_ЛОБАЧЕВСКОГО', 'Express'))"
   ]
  },
  {
   "cell_type": "code",
   "execution_count": 39,
   "id": "bf517de2",
   "metadata": {},
   "outputs": [
    {
     "name": "stdout",
     "output_type": "stream",
     "text": [
      "   FactHour  Orders_D  Items_D    AIV  AIV_MEAN\n",
      "0        17       848     8832  10.42      9.89\n",
      "1        18       992    11001  11.09      9.89\n",
      "2        19      1029    10914  10.61      9.89\n",
      "3        20      1050    10936  10.42      9.89\n",
      "4        21       976     9782  10.02      9.89\n",
      "5        22       823     7261   8.82      9.89\n",
      "6        23       493     3869   7.85      9.89\n"
     ]
    },
    {
     "data": {
      "image/png": "[encoded data removed]",
      "text/plain": [
       "<Figure size 720x432 with 1 Axes>"
      ]
     },
     "metadata": {
      "needs_background": "light"
     },
     "output_type": "display_data"
    }
   ],
   "source": [
    "#Подсчет данных по Тюменский с 17 до 23 часов. С 9 по 25 января.\n",
    "print(aiv(orders_in_hours, dt1, dt2, 17, 23, 'FRESH_MAX_МСК_ТЮМЕНСКИЙ', 'Express'))"
   ]
  },
  {
   "cell_type": "code",
   "execution_count": 40,
   "id": "3951d647",
   "metadata": {},
   "outputs": [
    {
     "name": "stdout",
     "output_type": "stream",
     "text": [
      "   FactHour  Orders_D  Items_D    AIV  AIV_MEAN\n",
      "0        17       309     3705  11.99     10.65\n",
      "1        18       316     3611  11.43     10.65\n",
      "2        19       386     4433  11.48     10.65\n",
      "3        20       388     3823   9.85     10.65\n",
      "4        21       317     2960   9.34     10.65\n",
      "5        22       259     2592  10.01     10.65\n",
      "6        23       155     1616  10.43     10.65\n"
     ]
    },
    {
     "data": {
      "image/png": "[encoded data removed]",
      "text/plain": [
       "<Figure size 720x432 with 1 Axes>"
      ]
     },
     "metadata": {
      "needs_background": "light"
     },
     "output_type": "display_data"
    }
   ],
   "source": [
    "#Подсчет данных по Одинцово с 17 до 23 часов. С 9 по 25 января.\n",
    "print(aiv(orders_in_hours, dt1, dt2, 17, 23, 'FRESH_MAX_МСК_ОДИНЦОВО', 'Express'))"
   ]
  },
  {
   "cell_type": "code",
   "execution_count": 41,
   "id": "46e96fdb",
   "metadata": {},
   "outputs": [
    {
     "name": "stdout",
     "output_type": "stream",
     "text": [
      "   FactHour  Orders_D  Items_D    AIV  AIV_MEAN\n",
      "0        17       914     9958  10.89      9.75\n",
      "1        18       877     9222  10.52      9.75\n",
      "2        19       992    10239  10.32      9.75\n",
      "3        20      1044    10341   9.91      9.75\n",
      "4        21       750     6791   9.05      9.75\n",
      "5        22       585     4912   8.40      9.75\n",
      "6        23       466     4268   9.16      9.75\n"
     ]
    },
    {
     "data": {
      "image/png": "[encoded data removed]",
      "text/plain": [
       "<Figure size 720x432 with 1 Axes>"
      ]
     },
     "metadata": {
      "needs_background": "light"
     },
     "output_type": "display_data"
    }
   ],
   "source": [
    "#Подсчет данных по Европолис с 17 до 23 часов. С 9 по 25 января.\n",
    "print(aiv(orders_in_hours, dt1, dt2, 17, 23, 'FRESH_MAX_МСК_ЕВРОПОЛИС', 'Express'))"
   ]
  },
  {
   "cell_type": "code",
   "execution_count": 42,
   "id": "a2a9ac68",
   "metadata": {},
   "outputs": [
    {
     "name": "stdout",
     "output_type": "stream",
     "text": [
      "   FactHour  Orders_D  Items_D    AIV  AIV_MEAN\n",
      "0        17       554     6270  11.32     10.36\n",
      "1        18       553     6170  11.16     10.36\n",
      "2        19       567     6556  11.56     10.36\n",
      "3        20       626     6652  10.63     10.36\n",
      "4        21       486     4842   9.96     10.36\n",
      "5        22       435     3998   9.19     10.36\n",
      "6        23       275     2397   8.72     10.36\n"
     ]
    },
    {
     "data": {
      "image/png": "[encoded data removed]",
      "text/plain": [
       "<Figure size 720x432 with 1 Axes>"
      ]
     },
     "metadata": {
      "needs_background": "light"
     },
     "output_type": "display_data"
    }
   ],
   "source": [
    "#Подсчет данных по Кунцево с 17 до 23 часов. С 9 по 25 января.\n",
    "print(aiv(orders_in_hours, dt1, dt2, 17, 23, 'FRESH_MAX_МСК_КУНЦЕВО', 'Express'))"
   ]
  },
  {
   "cell_type": "code",
   "execution_count": 43,
   "id": "e013594a",
   "metadata": {},
   "outputs": [
    {
     "name": "stdout",
     "output_type": "stream",
     "text": [
      "   FactHour  Orders_D  Items_D    AIV  AIV_MEAN\n",
      "0        17       378     3882  10.27      9.96\n",
      "1        18       477     5175  10.85      9.96\n",
      "2        19       500     5472  10.94      9.96\n",
      "3        20       543     5484  10.10      9.96\n",
      "4        21       472     4594   9.73      9.96\n",
      "5        22       420     3848   9.16      9.96\n",
      "6        23       279     2422   8.68      9.96\n"
     ]
    },
    {
     "data": {
      "image/png": "[encoded data removed]",
      "text/plain": [
       "<Figure size 720x432 with 1 Axes>"
      ]
     },
     "metadata": {
      "needs_background": "light"
     },
     "output_type": "display_data"
    }
   ],
   "source": [
    "#Подсчет данных по Саларьево с 17 до 23 часов. С 9 по 25 января.\n",
    "print(aiv(orders_in_hours, dt1, dt2, 17, 23, 'FRESH_MAX_МСК_САЛАРЬЕВО', 'Express'))"
   ]
  },
  {
   "cell_type": "markdown",
   "id": "e19bdb68",
   "metadata": {},
   "source": [
    "## Вывод: гипотезы №2, 3\n",
    "\n",
    "\"На ДС Лобачевского, Автоград, Каширский двор в вечернее время 17-23 преобладают большие экспресс заказы > 10 наименований в заказе (Average item order - AIV > 10)\"\n",
    "Гипотеза подтверждена на 1 складе - Автоград. Каширский Двор и Лобачевского средний показатель AIV - 9.82.\n",
    "В выборке не учитывались праздничные дни с 1 по 8 января. Подсчет всех показателей проводился с 9 по 25 января.\n",
    "\n",
    "ТОП 10 складов по GMV по наибольшему AIV в экспресс заказах с 17 по 23:\n",
    "1.Одинцово - 10.65\n",
    "2. Автоград - 10.46\n",
    "3. Митино - 10.41\n",
    "4. Кунцево - 10.36\n",
    "5. Саларьево - 9.96\n",
    "6. Тюменский - 9.89 \n",
    "7. Каширский Двор - 9.82\n",
    "8. Лобачевского - 9.82\n",
    "9. Европолис - 9.75\n",
    "10. Правобережный - 9.73\n",
    "\n",
    "Больше всех AIV в экспресс заказах с 7 часов до 23 часов на Кунцево, Одинцово и Автограде - 10.6 item (в период с 9 по 25 января). Гипотеза \"AIV экспрессов на ДС Лобачевского больше чем в топ-10 складов по торговле.\" - не подтверждена.\n",
    "\n",
    "\n",
    "Данные рассчитаны с 9 по 25 января. Праздники были исключены из расчета. При изменении структуры заказов, в зависимости от сезона или акций, необходима повторная проверка гипотез."
   ]
  },
  {
   "cell_type": "code",
   "execution_count": 44,
   "id": "09883ba0",
   "metadata": {},
   "outputs": [],
   "source": [
    "#print(aiv(orders_in_hours, dt1, dt2, 7, 23, 'FRESH_MAX_МСК_ПРАВОБЕРЕЖНЫЙ', 'Express'))"
   ]
  },
  {
   "cell_type": "code",
   "execution_count": 45,
   "id": "4745ee59",
   "metadata": {},
   "outputs": [],
   "source": [
    "#print(aiv(orders_in_hours, dt1, dt2, 7, 23, 'FRESH_MAX_МСК_МИТИНО', 'Express'))"
   ]
  },
  {
   "cell_type": "code",
   "execution_count": 46,
   "id": "1f7bd23f",
   "metadata": {},
   "outputs": [],
   "source": [
    "#print(aiv(orders_in_hours, dt1, dt2, 7, 23, 'FRESH_MAX_МСК_АВТОГРАД', 'Express'))"
   ]
  },
  {
   "cell_type": "code",
   "execution_count": 47,
   "id": "bbd75314",
   "metadata": {},
   "outputs": [],
   "source": [
    "#print(aiv(orders_in_hours, dt1, dt2, 7, 23, 'FRESH_MAX_МСК_КАШИРСКИЙ_ДВОР', 'Express'))"
   ]
  },
  {
   "cell_type": "code",
   "execution_count": 48,
   "id": "f8c8d337",
   "metadata": {},
   "outputs": [],
   "source": [
    "#print(aiv(orders_in_hours, dt1, dt2, 7, 23, 'FRESH_MAX_МСК_ЛОБАЧЕВСКОГО', 'Express'))"
   ]
  },
  {
   "cell_type": "code",
   "execution_count": 49,
   "id": "65af5e5a",
   "metadata": {},
   "outputs": [],
   "source": [
    "#print(aiv(orders_in_hours, dt1, dt2, 7, 23, 'FRESH_MAX_МСК_ТЮМЕНСКИЙ', 'Express'))"
   ]
  },
  {
   "cell_type": "code",
   "execution_count": 50,
   "id": "324e69c7",
   "metadata": {},
   "outputs": [],
   "source": [
    "#print(aiv(orders_in_hours, dt1, dt2, 7, 23, 'FRESH_MAX_МСК_ОДИНЦОВО', 'Express'))"
   ]
  },
  {
   "cell_type": "code",
   "execution_count": 51,
   "id": "d6a0b305",
   "metadata": {},
   "outputs": [],
   "source": [
    "#print(aiv(orders_in_hours, dt1, dt2, 7, 23, 'FRESH_MAX_МСК_ЕВРОПОЛИС', 'Express'))\n"
   ]
  },
  {
   "cell_type": "code",
   "execution_count": 52,
   "id": "a0852ade",
   "metadata": {},
   "outputs": [],
   "source": [
    "#print(aiv(orders_in_hours, dt1, dt2, 7, 23, 'FRESH_MAX_МСК_КУНЦЕВО', 'Express'))"
   ]
  },
  {
   "cell_type": "code",
   "execution_count": 53,
   "id": "2bdac327",
   "metadata": {},
   "outputs": [],
   "source": [
    "#print(aiv(orders_in_hours, dt1, dt2, 7, 23, 'FRESH_MAX_МСК_САЛАРЬЕВО', 'Express'))"
   ]
  },
  {
   "cell_type": "code",
   "execution_count": null,
   "id": "1199e9f8",
   "metadata": {},
   "outputs": [],
   "source": []
  }
 ],
 "metadata": {
  "kernelspec": {
   "display_name": "Python 3",
   "language": "python",
   "name": "python3"
  },
  "language_info": {
   "codemirror_mode": {
    "name": "ipython",
    "version": 3
   },
   "file_extension": ".py",
   "mimetype": "text/x-python",
   "name": "python",
   "nbconvert_exporter": "python",
   "pygments_lexer": "ipython3",
   "version": "3.8.8"
  }
 },
 "nbformat": 4,
 "nbformat_minor": 5
}
